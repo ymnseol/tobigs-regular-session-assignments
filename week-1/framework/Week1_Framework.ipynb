{
 "cells": [
  {
   "cell_type": "markdown",
   "metadata": {},
   "source": [
    "## 1. Library와 Framework의 차이\n",
    "* Library\n",
    "  * 필요한 기능을 수행하고자 사용하는 **도구**\n",
    "  * 자신이 수행하고 싶은 기능에 따라 라이브러리를 선택하며 활용\n",
    "* Framework\n",
    "  * 특정 문제를 해결하기 위해 **미리 정리된 도구 집합\n",
    "  * 프레임워크 사용시 반드시 프레임워크의 규칙, 구조를 따라야 함"
   ]
  },
  {
   "cell_type": "markdown",
   "metadata": {},
   "source": [
    "## 2. 딥러닝와 머신러닝의 관계, 특징, 차이\n",
    "* 인공지능이 머신러닝을 포함하고, 머신러닝이 딥러닝을 포함\n",
    "* 머신러닝의 경우 data preprocessing, 수학적인 Feature extraction 과정을 거쳐 classification model 등을 설계\n",
    "* 딥러닝의 경우 Neural network를 사용해, 복잡한 별도의 feature extraction 과정을 사람이 수행하지 않더라도 결과를 도출할 수 있는 모델 설계\n",
    "* 딥러닝의 경우 모델에게 학습시킬 다량의 데이터 필요로 함"
   ]
  }
 ],
 "metadata": {
  "kernelspec": {
   "display_name": "tobigs-regular-session",
   "language": "python",
   "name": "python3"
  },
  "language_info": {
   "name": "python",
   "version": "3.8.17"
  },
  "orig_nbformat": 4
 },
 "nbformat": 4,
 "nbformat_minor": 2
}
